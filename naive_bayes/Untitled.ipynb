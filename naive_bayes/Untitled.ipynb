{
 "cells": [
  {
   "cell_type": "code",
   "execution_count": 1,
   "metadata": {},
   "outputs": [],
   "source": [
    "#text processsing \n",
    "#natural language pre processsing \n",
    "#classifier recieve only numbers , fix number of feature \n",
    "#we will ignore garbage words \n",
    "# pipelines:bag of words  is conveting text into nummeric values\n",
    "# NLTK\n",
    "#CORPUS =>SAMPLE TEXT  from NLTK\n",
    "# pipeline  of natural language processing \n",
    "# pipeline \n",
    "#tokenization: docs => sent => words  => features\n",
    "#stop word removal\n",
    "#stemming \n",
    "#building the vocabulary\n",
    "# assigning numbers to each word in vocab\n",
    "# vector of classifier = size of vocabulary\n",
    "# fit : learn from my data \n",
    "#transform : create the vocabulary / features\n",
    "# triagram , ngram ,tf-idf normalization , unigram , bigram\n",
    "#\n",
    "#\n"
   ]
  },
  {
   "cell_type": "code",
   "execution_count": null,
   "metadata": {},
   "outputs": [],
   "source": [
    "# naive bayes classifier\n",
    "# text classification \n",
    "#small features /dimension\n",
    "#feature are independent\n",
    "#data changes quickly\n",
    "#bayes theorem \n",
    "#p(a /b ) = p(b/a) *p(a) / p(b)\n",
    "# p(y=1 / x) = p(y = 1) * p (x/ y =1 ) / p (x)  \n",
    "# y = spam  or not\n",
    "# x = email\n",
    "# find the posterior prob of all classes and take the max\n",
    "#p(x /y = 0) = in how many spam email is x ocuuring \n",
    "#p( spam / \"discount \") = p(\"discount\" / spam ) *( n(spam ) / n (total))"
   ]
  }
 ],
 "metadata": {
  "kernelspec": {
   "display_name": "Python 3",
   "language": "python",
   "name": "python3"
  },
  "language_info": {
   "codemirror_mode": {
    "name": "ipython",
    "version": 3
   },
   "file_extension": ".py",
   "mimetype": "text/x-python",
   "name": "python",
   "nbconvert_exporter": "python",
   "pygments_lexer": "ipython3",
   "version": "3.8.5"
  }
 },
 "nbformat": 4,
 "nbformat_minor": 4
}
